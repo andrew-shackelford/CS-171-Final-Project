{
 "cells": [
  {
   "cell_type": "code",
   "execution_count": null,
   "metadata": {},
   "outputs": [],
   "source": [
    "import json\n",
    "import os\n",
    "import sys\n",
    "import datetime\n",
    "from datetime import timezone"
   ]
  },
  {
   "cell_type": "code",
   "execution_count": null,
   "metadata": {},
   "outputs": [],
   "source": [
    "total_start = datetime.datetime(2019, 6, 1, 0, 0, tzinfo=timezone.utc)\n",
    "total_end = datetime.datetime(2019, 6, 2, 0, 0, tzinfo=timezone.utc)"
   ]
  },
  {
   "cell_type": "code",
   "execution_count": null,
   "metadata": {},
   "outputs": [],
   "source": [
    "data = []\n",
    "with open('/Volumes/ESD-USB/RC_2019-06.json', 'r') as f:\n",
    "    for line in f:\n",
    "        json_line = json.loads(line)\n",
    "        if datetime.datetime.fromtimestamp(json_line['created_utc'], timezone.utc) > total_end:\n",
    "            with open(total_start.strftime(\"%Y-%m-%d-%H\") + '.json', 'w') as f:\n",
    "                json.dump(data, f)       \n",
    "            break \n",
    "        if datetime.datetime.fromtimestamp(json_line['created_utc'], timezone.utc) > total_start + datetime.timedelta(hours=1):\n",
    "            with open(total_start.strftime(\"%Y-%m-%d-%H\") + '.json', 'w') as f:\n",
    "                json.dump(data, f)       \n",
    "                data = []\n",
    "            total_start += datetime.timedelta(hours=1)\n",
    "        data.append(json_line)"
   ]
  }
 ],
 "metadata": {
  "kernelspec": {
   "display_name": "Python 3",
   "language": "python",
   "name": "python3"
  },
  "language_info": {
   "codemirror_mode": {
    "name": "ipython",
    "version": 3
   },
   "file_extension": ".py",
   "mimetype": "text/x-python",
   "name": "python",
   "nbconvert_exporter": "python",
   "pygments_lexer": "ipython3",
   "version": "3.7.3"
  }
 },
 "nbformat": 4,
 "nbformat_minor": 2
}
