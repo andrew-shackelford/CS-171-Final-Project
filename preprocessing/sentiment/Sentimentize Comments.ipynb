{
 "cells": [
  {
   "cell_type": "code",
   "execution_count": 2,
   "metadata": {},
   "outputs": [],
   "source": [
    "from textblob import TextBlob\n",
    "import json\n",
    "import pickle\n",
    "import os\n",
    "import sys\n",
    "from collections import defaultdict"
   ]
  },
  {
   "cell_type": "code",
   "execution_count": 2,
   "metadata": {},
   "outputs": [],
   "source": [
    "def sentimentize_data(data):\n",
    "    results = defaultdict(lambda: defaultdict(lambda: defaultdict(int)))\n",
    "    subreddit_counts = defaultdict(int)\n",
    "    for idx, comment in enumerate(data):\n",
    "        opinion = TextBlob(comment['body'])\n",
    "        timestamp = int(comment['created_utc'] / 300) * 300 # break into five minute chunks\n",
    "        subreddit = comment['subreddit']\n",
    "        polarity = opinion.sentiment.polarity\n",
    "        subjectivity = opinion.sentiment.subjectivity\n",
    "        subreddit_counts[subreddit] += 1\n",
    "        results[timestamp][subreddit]['total'] += 1\n",
    "        results[timestamp][subreddit]['polarity'] += polarity\n",
    "        results[timestamp][subreddit]['subjectivity'] += subjectivity\n",
    "    output = []\n",
    "    i = 0\n",
    "    for subreddit in subreddit_counts.values():\n",
    "        if subreddit >= 60:\n",
    "            i += 1\n",
    "    print(i)\n",
    "    for timestamp, subreddits in results.items():\n",
    "        for subreddit, values in subreddits.items():\n",
    "            if subreddit_counts[subreddit] < 60: # remove any subreddits that get < 1 comments/min\n",
    "                continue\n",
    "            output.append({'t' : timestamp, 'r' : subreddit, 'p' : values['polarity'] / values['total'], 's' : values['subjectivity'] / values['total']})\n",
    "    return output"
   ]
  },
  {
   "cell_type": "code",
   "execution_count": 3,
   "metadata": {},
   "outputs": [],
   "source": [
    "def main():\n",
    "    rootdir = '/Users/ashackelford/Desktop/Reddit/'\n",
    "    for subdir, dirs, files in os.walk(rootdir):\n",
    "        for file in files:\n",
    "            with open(subdir + \"/\" + file, 'r') as f:\n",
    "                print(file)\n",
    "                output = sentimentize_data(json.load(f))\n",
    "            with open(\"all/\" + file.rsplit('.', 1)[0] + '_sentiment' + '.json', 'w') as f:\n",
    "                json.dump(output, f)"
   ]
  },
  {
   "cell_type": "code",
   "execution_count": 4,
   "metadata": {},
   "outputs": [
    {
     "name": "stdout",
     "output_type": "stream",
     "text": [
      "2019-06-01-20.json\n",
      "552\n",
      "2019-06-01-00.json\n",
      "529\n",
      "2019-06-01-16.json\n",
      "590\n",
      "2019-06-01-17.json\n",
      "590\n",
      "2019-06-01-01.json\n",
      "487\n",
      "2019-06-01-21.json\n",
      "532\n",
      "2019-06-01-06.json\n",
      "302\n",
      "2019-06-01-10.json\n",
      "281\n",
      "2019-06-01-11.json\n",
      "292\n",
      "2019-06-01-07.json\n",
      "272\n",
      "2019-06-01-12.json\n",
      "379\n",
      "2019-06-01-04.json\n",
      "402\n",
      "2019-06-01-08.json\n",
      "262\n",
      "2019-06-01-09.json\n",
      "240\n",
      "2019-06-01-05.json\n",
      "349\n",
      "2019-06-01-13.json\n",
      "456\n",
      "2019-06-01-18.json\n",
      "570\n",
      "2019-06-01-22.json\n",
      "525\n",
      "2019-06-01-14.json\n",
      "516\n",
      "2019-06-01-02.json\n",
      "488\n",
      "2019-06-01-03.json\n",
      "447\n",
      "2019-06-01-15.json\n",
      "579\n",
      "2019-06-01-23.json\n",
      "509\n",
      "2019-06-01-19.json\n",
      "541\n"
     ]
    }
   ],
   "source": [
    "main()"
   ]
  },
  {
   "cell_type": "code",
   "execution_count": 3,
   "metadata": {},
   "outputs": [],
   "source": [
    "all_subreddits = defaultdict(int)\n",
    "def fill_all_subreddits(data):\n",
    "    global all_subreddits\n",
    "    subreddit_set = set()\n",
    "    for item in data:\n",
    "        subreddit_set.add(item['r'])\n",
    "    for subreddit in list(subreddit_set):\n",
    "        all_subreddits[subreddit] += 1"
   ]
  },
  {
   "cell_type": "code",
   "execution_count": 4,
   "metadata": {},
   "outputs": [],
   "source": [
    "def get_trimmed_subreddits():\n",
    "    global all_subreddits\n",
    "    global trimmed_subreddits\n",
    "    trimmed_subreddits = set()\n",
    "    for subreddit, value in all_subreddits.items():\n",
    "        if value == 24:\n",
    "            trimmed_subreddits.add(subreddit)\n",
    "    print(len(list(trimmed_subreddits)))"
   ]
  },
  {
   "cell_type": "code",
   "execution_count": 5,
   "metadata": {},
   "outputs": [],
   "source": [
    "def trim_data(data):\n",
    "    global trimmed_subreddits\n",
    "    trimmed_data = []\n",
    "    for item in data:\n",
    "        if item['r'] in trimmed_subreddits:\n",
    "            trimmed_data.append(item)\n",
    "    return trimmed_data"
   ]
  },
  {
   "cell_type": "code",
   "execution_count": 6,
   "metadata": {},
   "outputs": [],
   "source": [
    "def trim():\n",
    "    rootdir = 'all/'\n",
    "    for subdir, dirs, files in os.walk(rootdir):\n",
    "        for file in files:\n",
    "            with open(subdir + \"/\" + file, 'r') as f:\n",
    "                print(file)\n",
    "                fill_all_subreddits(json.load(f))\n",
    "    \n",
    "    get_trimmed_subreddits()                \n",
    "                \n",
    "    for subdir, dirs, files in os.walk(rootdir):\n",
    "        for file in files:\n",
    "            with open(subdir + \"/\" + file, 'r') as f:\n",
    "                print(file)\n",
    "                output = trim_data(json.load(f))      \n",
    "                with open(\"trimmed/\" + file, 'w') as f:\n",
    "                    json.dump(output, f)"
   ]
  },
  {
   "cell_type": "code",
   "execution_count": 7,
   "metadata": {},
   "outputs": [
    {
     "name": "stdout",
     "output_type": "stream",
     "text": [
      "2019-06-01-21_sentiment.json\n",
      "2019-06-01-20_sentiment.json\n",
      "2019-06-01-22_sentiment.json\n",
      "2019-06-01-23_sentiment.json\n",
      "2019-06-01-17_sentiment.json\n",
      "2019-06-01-02_sentiment.json\n",
      "2019-06-01-18_sentiment.json\n",
      "2019-06-01-05_sentiment.json\n",
      "2019-06-01-10_sentiment.json\n",
      "2019-06-01-11_sentiment.json\n",
      "2019-06-01-04_sentiment.json\n",
      "2019-06-01-19_sentiment.json\n",
      "2019-06-01-03_sentiment.json\n",
      "2019-06-01-16_sentiment.json\n",
      "2019-06-01-01_sentiment.json\n",
      "2019-06-01-14_sentiment.json\n",
      "2019-06-01-09_sentiment.json\n",
      "2019-06-01-13_sentiment.json\n",
      "2019-06-01-06_sentiment.json\n",
      "2019-06-01-07_sentiment.json\n",
      "2019-06-01-12_sentiment.json\n",
      "2019-06-01-08_sentiment.json\n",
      "2019-06-01-15_sentiment.json\n",
      "2019-06-01-00_sentiment.json\n",
      "144\n",
      "2019-06-01-21_sentiment.json\n",
      "2019-06-01-20_sentiment.json\n",
      "2019-06-01-22_sentiment.json\n",
      "2019-06-01-23_sentiment.json\n",
      "2019-06-01-17_sentiment.json\n",
      "2019-06-01-02_sentiment.json\n",
      "2019-06-01-18_sentiment.json\n",
      "2019-06-01-05_sentiment.json\n",
      "2019-06-01-10_sentiment.json\n",
      "2019-06-01-11_sentiment.json\n",
      "2019-06-01-04_sentiment.json\n",
      "2019-06-01-19_sentiment.json\n",
      "2019-06-01-03_sentiment.json\n",
      "2019-06-01-16_sentiment.json\n",
      "2019-06-01-01_sentiment.json\n",
      "2019-06-01-14_sentiment.json\n",
      "2019-06-01-09_sentiment.json\n",
      "2019-06-01-13_sentiment.json\n",
      "2019-06-01-06_sentiment.json\n",
      "2019-06-01-07_sentiment.json\n",
      "2019-06-01-12_sentiment.json\n",
      "2019-06-01-08_sentiment.json\n",
      "2019-06-01-15_sentiment.json\n",
      "2019-06-01-00_sentiment.json\n"
     ]
    }
   ],
   "source": [
    "trim()"
   ]
  },
  {
   "cell_type": "code",
   "execution_count": null,
   "metadata": {},
   "outputs": [],
   "source": []
  },
  {
   "cell_type": "code",
   "execution_count": null,
   "metadata": {},
   "outputs": [],
   "source": []
  }
 ],
 "metadata": {
  "kernelspec": {
   "display_name": "Python 3",
   "language": "python",
   "name": "python3"
  },
  "language_info": {
   "codemirror_mode": {
    "name": "ipython",
    "version": 3
   },
   "file_extension": ".py",
   "mimetype": "text/x-python",
   "name": "python",
   "nbconvert_exporter": "python",
   "pygments_lexer": "ipython3",
   "version": "3.7.3"
  }
 },
 "nbformat": 4,
 "nbformat_minor": 2
}
