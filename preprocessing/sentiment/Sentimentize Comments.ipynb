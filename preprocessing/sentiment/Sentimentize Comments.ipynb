{
 "cells": [
  {
   "cell_type": "code",
   "execution_count": 1,
   "metadata": {},
   "outputs": [],
   "source": [
    "from textblob import TextBlob\n",
    "import json\n",
    "import pickle\n",
    "import os\n",
    "import sys\n",
    "from collections import defaultdict"
   ]
  },
  {
   "cell_type": "code",
   "execution_count": 2,
   "metadata": {},
   "outputs": [],
   "source": [
    "def sentimentize_data(data, hour):\n",
    "    global output\n",
    "    with open('top_25_subreddit_names.json', 'r') as f:\n",
    "        top_subreddits = set(json.load(f))\n",
    "    results = defaultdict(lambda: defaultdict((int)))\n",
    "    subreddit_counts = defaultdict(int)\n",
    "    for idx, comment in enumerate(data):\n",
    "        if comment['subreddit'] not in top_subreddits:\n",
    "            continue\n",
    "        opinion = TextBlob(comment['body'])\n",
    "        subreddit = comment['subreddit']\n",
    "        results[subreddit]['total'] += 1\n",
    "        results[subreddit]['polarity'] += opinion.sentiment.polarity\n",
    "        results[subreddit]['subjectivity'] += opinion.sentiment.subjectivity\n",
    "        \n",
    "    for key, value in results.items():\n",
    "        out_dict = value\n",
    "        out_dict['subreddit'] = key\n",
    "        out_dict['hour'] = hour\n",
    "        output.append(out_dict)"
   ]
  },
  {
   "cell_type": "code",
   "execution_count": 3,
   "metadata": {},
   "outputs": [],
   "source": [
    "def main():\n",
    "    global output\n",
    "    output = []\n",
    "    rootdir = '/Users/ashackelford/Desktop/Reddit/'\n",
    "    for subdir, dirs, files in os.walk(rootdir):\n",
    "        for file in files:\n",
    "            with open(subdir + \"/\" + file, 'r') as f:\n",
    "                print(file)\n",
    "                sentimentize_data(json.load(f), file.split('.')[0][-2:])\n",
    "    with open('sentiment.json', 'w') as f:\n",
    "        json.dump(output, f)"
   ]
  },
  {
   "cell_type": "code",
   "execution_count": 4,
   "metadata": {},
   "outputs": [
    {
     "name": "stdout",
     "output_type": "stream",
     "text": [
      "2019-06-01-20.json\n",
      "2019-06-01-00.json\n",
      "2019-06-01-16.json\n",
      "2019-06-01-17.json\n",
      "2019-06-01-01.json\n",
      "2019-06-01-21.json\n",
      "2019-06-01-06.json\n",
      "2019-06-01-10.json\n",
      "2019-06-01-11.json\n",
      "2019-06-01-07.json\n",
      "2019-06-01-12.json\n",
      "2019-06-01-04.json\n",
      "2019-06-01-08.json\n",
      "2019-06-01-09.json\n",
      "2019-06-01-05.json\n",
      "2019-06-01-13.json\n",
      "2019-06-01-18.json\n",
      "2019-06-01-22.json\n",
      "2019-06-01-14.json\n",
      "2019-06-01-02.json\n",
      "2019-06-01-03.json\n",
      "2019-06-01-15.json\n",
      "2019-06-01-23.json\n",
      "2019-06-01-19.json\n"
     ]
    }
   ],
   "source": [
    "main()"
   ]
  }
 ],
 "metadata": {
  "kernelspec": {
   "display_name": "Python 3",
   "language": "python",
   "name": "python3"
  },
  "language_info": {
   "codemirror_mode": {
    "name": "ipython",
    "version": 3
   },
   "file_extension": ".py",
   "mimetype": "text/x-python",
   "name": "python",
   "nbconvert_exporter": "python",
   "pygments_lexer": "ipython3",
   "version": "3.7.3"
  }
 },
 "nbformat": 4,
 "nbformat_minor": 2
}
