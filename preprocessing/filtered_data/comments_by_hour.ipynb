{
 "cells": [
  {
   "cell_type": "code",
   "execution_count": 1,
   "metadata": {},
   "outputs": [],
   "source": [
    "import json\n",
    "import pickle\n",
    "import os\n",
    "import sys\n",
    "from collections import defaultdict"
   ]
  },
  {
   "cell_type": "code",
   "execution_count": 2,
   "metadata": {},
   "outputs": [],
   "source": [
    "results = defaultdict(lambda: defaultdict(lambda: defaultdict(int)))"
   ]
  },
  {
   "cell_type": "code",
   "execution_count": 3,
   "metadata": {},
   "outputs": [],
   "source": [
    "def comments_by_hour(data, hour):\n",
    "    global results\n",
    "    with open('top_25_subreddit_names.json', 'r') as f:\n",
    "        top_subreddits = set(json.load(f))\n",
    "    for idx, comment in enumerate(data):\n",
    "        subreddit = comment['subreddit']\n",
    "        if subreddit not in top_subreddits:\n",
    "            continue\n",
    "        results[hour]['controversiality'] += comment['controversiality']\n",
    "        results[hour][\"score\"] += comment[\"score\"]\n",
    "        results[hour][\"total\"] += 1"
   ]
  },
  {
   "cell_type": "code",
   "execution_count": 4,
   "metadata": {},
   "outputs": [],
   "source": [
    "def get_output(results):\n",
    "    output = []\n",
    "    for hour, data in results.items():\n",
    "        output.append({\n",
    "            \"hour\" : hour,\n",
    "            \"controversiality\" : data['controversiality'] / data['total'],\n",
    "            'score' : data['score'] / data['total'],\n",
    "            'total' : data['total']})\n",
    "    return output"
   ]
  },
  {
   "cell_type": "code",
   "execution_count": 5,
   "metadata": {},
   "outputs": [],
   "source": [
    "def main():\n",
    "    global results\n",
    "    rootdir = '/Users/hannakim/Desktop/Reddit_Hourly/'\n",
    "    for subdir, dirs, files in os.walk(rootdir):\n",
    "        for file in files:\n",
    "            with open(subdir + \"/\" + file, 'r') as f:\n",
    "                print(file)\n",
    "                comments_by_hour(json.load(f), file.split('.')[0][-2:])\n",
    "    with open('hourly_stats_3.json', 'w') as f:\n",
    "        json.dump(get_output(results), f)"
   ]
  },
  {
   "cell_type": "code",
   "execution_count": null,
   "metadata": {},
   "outputs": [],
   "source": [
    "main()"
   ]
  }
 ],
 "metadata": {
  "kernelspec": {
   "display_name": "Python 3",
   "language": "python",
   "name": "python3"
  },
  "language_info": {
   "codemirror_mode": {
    "name": "ipython",
    "version": 3
   },
   "file_extension": ".py",
   "mimetype": "text/x-python",
   "name": "python",
   "nbconvert_exporter": "python",
   "pygments_lexer": "ipython3",
   "version": "3.7.5"
  }
 },
 "nbformat": 4,
 "nbformat_minor": 2
}
